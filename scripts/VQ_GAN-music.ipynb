!pip install pydub
!pip install torchaudio==0.7.0
!pip install librosa==0.8.0
!pip install torch-audiomentations
!pip install tensorboard
#!tensorboard --logdir=runs
#!pip install torchaudio
#!pip install torch==1.6.0+cu101 torchvision==0.7.0+cu101 torchaudio==0.6.0 -f https://download.pytorch.org/whl/torch_stable.html
#!pip install torch
